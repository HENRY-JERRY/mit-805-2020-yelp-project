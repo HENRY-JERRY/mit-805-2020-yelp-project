{
 "cells": [
  {
   "cell_type": "code",
   "execution_count": 89,
   "metadata": {},
   "outputs": [],
   "source": [
    "import pandas as pd"
   ]
  },
  {
   "cell_type": "code",
   "execution_count": 55,
   "metadata": {},
   "outputs": [],
   "source": [
    "reviews_1 = pd.read_csv(\"../data/reviews_1.csv\", usecols=['business_id', 'stars','text'], nrows=668590)"
   ]
  },
  {
   "cell_type": "code",
   "execution_count": 2,
   "metadata": {},
   "outputs": [],
   "source": [
    "reviews_1 = pd.read_csv(\"../data/reviews_1.csv\", usecols=['business_id', 'stars','text'], nrows=100000)\n",
    "reviews_2 = pd.read_csv(\"../data/reviews_2.csv\", usecols=['business_id', 'stars','text'])\n",
    "reviews_3 = pd.read_csv(\"../data/reviews_3.csv\", usecols=['business_id', 'stars','text'])\n",
    "reviews_4 = pd.read_csv(\"../data/reviews_4.csv\", usecols=['business_id', 'stars','text'])\n",
    "reviews_5 = pd.read_csv(\"../data/reviews_5.csv\", usecols=['business_id', 'stars','text'])\n",
    "reviews_6 = pd.read_csv(\"../data/reviews_6.csv\", usecols=['business_id', 'stars','text'])\n",
    "reviews_7 = pd.read_csv(\"../data/reviews_7.csv\", usecols=['business_id', 'stars','text'])\n",
    "reviews_8 = pd.read_csv(\"../data/reviews_8.csv\", usecols=['business_id', 'stars','text'])\n",
    "reviews_9 = pd.read_csv(\"../data/reviews_9.csv\", usecols=['business_id', 'stars','text'])\n",
    "reviews_10 = pd.read_csv(\"../data/reviews_10.csv\", usecols=['business_id', 'stars','text'])\n",
    "reviews_11 = pd.read_csv(\"../data/reviews_11.csv\", usecols=['business_id', 'stars','text'])\n",
    "reviews_12 = pd.read_csv(\"../data/reviews_12.csv\", usecols=['business_id', 'stars','text'])\n",
    "reviews_13 = pd.read_csv(\"../data/reviews_13.csv\", usecols=['business_id', 'stars','text'])\n",
    "reviews_14 = pd.read_csv(\"../data/reviews_14.csv\", usecols=['business_id', 'stars','text'])"
   ]
  },
  {
   "cell_type": "code",
   "execution_count": 3,
   "metadata": {},
   "outputs": [],
   "source": [
    "datasets = [reviews_1, reviews_2, reviews_3, reviews_4, reviews_5, reviews_6, reviews_7,\n",
    "           reviews_8, reviews_9, reviews_10, reviews_11, reviews_12, reviews_13, reviews_14]\n",
    "reviews = pd.concat(datasets)"
   ]
  },
  {
   "cell_type": "code",
   "execution_count": 56,
   "metadata": {},
   "outputs": [
    {
     "data": {
      "text/plain": [
       "(500000, 3)"
      ]
     },
     "execution_count": 56,
     "metadata": {},
     "output_type": "execute_result"
    }
   ],
   "source": [
    "reviews_1.shape"
   ]
  },
  {
   "cell_type": "code",
   "execution_count": 57,
   "metadata": {},
   "outputs": [
    {
     "data": {
      "text/html": [
       "<div>\n",
       "<style scoped>\n",
       "    .dataframe tbody tr th:only-of-type {\n",
       "        vertical-align: middle;\n",
       "    }\n",
       "\n",
       "    .dataframe tbody tr th {\n",
       "        vertical-align: top;\n",
       "    }\n",
       "\n",
       "    .dataframe thead th {\n",
       "        text-align: right;\n",
       "    }\n",
       "</style>\n",
       "<table border=\"1\" class=\"dataframe\">\n",
       "  <thead>\n",
       "    <tr style=\"text-align: right;\">\n",
       "      <th></th>\n",
       "      <th>business_id</th>\n",
       "      <th>stars</th>\n",
       "      <th>text</th>\n",
       "    </tr>\n",
       "  </thead>\n",
       "  <tbody>\n",
       "    <tr>\n",
       "      <th>0</th>\n",
       "      <td>ujmEBvifdJM6h6RLv4wQIg</td>\n",
       "      <td>1</td>\n",
       "      <td>Total bill for this horrible service? Over $8G...</td>\n",
       "    </tr>\n",
       "    <tr>\n",
       "      <th>1</th>\n",
       "      <td>NZnhc2sEQy3RmzKTZnqtwQ</td>\n",
       "      <td>5</td>\n",
       "      <td>I *adore* Travis at the Hard Rock's new Kelly ...</td>\n",
       "    </tr>\n",
       "    <tr>\n",
       "      <th>2</th>\n",
       "      <td>WTqjgwHlXbSFevF32_DJVw</td>\n",
       "      <td>5</td>\n",
       "      <td>I have to say that this office really has it t...</td>\n",
       "    </tr>\n",
       "    <tr>\n",
       "      <th>3</th>\n",
       "      <td>ikCg8xy5JIg_NGPx-MSIDA</td>\n",
       "      <td>5</td>\n",
       "      <td>Went in for a lunch. Steak sandwich was delici...</td>\n",
       "    </tr>\n",
       "    <tr>\n",
       "      <th>4</th>\n",
       "      <td>b1b1eb3uo-w561D0ZfCEiQ</td>\n",
       "      <td>1</td>\n",
       "      <td>Today was my second out of three sessions I ha...</td>\n",
       "    </tr>\n",
       "  </tbody>\n",
       "</table>\n",
       "</div>"
      ],
      "text/plain": [
       "              business_id  stars  \\\n",
       "0  ujmEBvifdJM6h6RLv4wQIg      1   \n",
       "1  NZnhc2sEQy3RmzKTZnqtwQ      5   \n",
       "2  WTqjgwHlXbSFevF32_DJVw      5   \n",
       "3  ikCg8xy5JIg_NGPx-MSIDA      5   \n",
       "4  b1b1eb3uo-w561D0ZfCEiQ      1   \n",
       "\n",
       "                                                text  \n",
       "0  Total bill for this horrible service? Over $8G...  \n",
       "1  I *adore* Travis at the Hard Rock's new Kelly ...  \n",
       "2  I have to say that this office really has it t...  \n",
       "3  Went in for a lunch. Steak sandwich was delici...  \n",
       "4  Today was my second out of three sessions I ha...  "
      ]
     },
     "execution_count": 57,
     "metadata": {},
     "output_type": "execute_result"
    }
   ],
   "source": [
    "nreviews = reviews_1.reset_index(drop=True)\n",
    "nreviews.head()"
   ]
  },
  {
   "cell_type": "code",
   "execution_count": 53,
   "metadata": {},
   "outputs": [],
   "source": [
    "def print_text(df, num):\n",
    "    filename = \"../data/star_\"\n",
    "    with open(filename+str(num)+\".txt\", 'w', encoding=\"utf-8\") as file:\n",
    "        for txt in df['text']:\n",
    "            file.write(txt)"
   ]
  },
  {
   "cell_type": "code",
   "execution_count": 58,
   "metadata": {},
   "outputs": [],
   "source": [
    "star5 = nreviews.loc[(nreviews['stars'] == 5)]\n",
    "print_text(star5, 5)"
   ]
  },
  {
   "cell_type": "code",
   "execution_count": 59,
   "metadata": {},
   "outputs": [],
   "source": [
    "star4 = nreviews.loc[(nreviews['stars'] == 4)]\n",
    "print_text(star4, 4)"
   ]
  },
  {
   "cell_type": "code",
   "execution_count": 60,
   "metadata": {},
   "outputs": [],
   "source": [
    "star3 = nreviews.loc[(nreviews['stars'] == 3)]\n",
    "print_text(star3, 3)"
   ]
  },
  {
   "cell_type": "code",
   "execution_count": 61,
   "metadata": {},
   "outputs": [],
   "source": [
    "star2 = nreviews.loc[(nreviews['stars'] == 2)]\n",
    "print_text(star2, 2)"
   ]
  },
  {
   "cell_type": "code",
   "execution_count": 62,
   "metadata": {},
   "outputs": [],
   "source": [
    "star1 = nreviews.loc[(nreviews['stars'] == 1)]\n",
    "print_text(star1, 1)"
   ]
  },
  {
   "cell_type": "code",
   "execution_count": 94,
   "metadata": {},
   "outputs": [],
   "source": [
    "fileName = '../data/stopwords.txt'\n",
    "stopwords = [line.rstrip('\\n') for line in open(fileName)]"
   ]
  },
  {
   "cell_type": "code",
   "execution_count": 96,
   "metadata": {},
   "outputs": [],
   "source": [
    "import csv\n",
    "with open(\"../data/five.txt\") as f:\n",
    "    \n",
    "    with open('../data/five.csv', mode='w') as csv_file:\n",
    "        fieldnames = ['num','word']\n",
    "        writer = csv.DictWriter(csv_file, fieldnames=fieldnames)\n",
    "\n",
    "        writer.writeheader()\n",
    "        for line in f:\n",
    "            state = line.split()\n",
    "            value = state[0]\n",
    "            n = value.replace('\"', '')\n",
    "            \n",
    "            w = state[1]\n",
    "            word = w.replace('\"', '')\n",
    "            \n",
    "            if word not in stopwords:\n",
    "                writer.writerow({'num': n, 'word': word})\n",
    "five = pd.read_csv('../data/five.csv')\n",
    "five = five.sort_values(by=['num'], ascending=False)\n",
    "five.to_csv(\"../data/topwordsfor5.csv\", index=False)"
   ]
  },
  {
   "cell_type": "code",
   "execution_count": 97,
   "metadata": {},
   "outputs": [],
   "source": [
    "with open(\"../data/four.txt\") as f:\n",
    "    \n",
    "    with open('../data/four.csv', mode='w') as csv_file:\n",
    "        fieldnames = ['num','word']\n",
    "        writer = csv.DictWriter(csv_file, fieldnames=fieldnames)\n",
    "\n",
    "        writer.writeheader()\n",
    "        for line in f:\n",
    "            state = line.split()\n",
    "            value = state[0]\n",
    "            \n",
    "            w = state[1]\n",
    "            word = w.replace('\"', '')\n",
    "            if word not in stopwords:\n",
    "                writer.writerow({'num': value, 'word': word})\n",
    "four = pd.read_csv('../data/four.csv')\n",
    "four = four.sort_values(by=['num'], ascending=False)\n",
    "four.to_csv(\"../data/topwordsfor4.csv\", index=False)"
   ]
  },
  {
   "cell_type": "code",
   "execution_count": 98,
   "metadata": {},
   "outputs": [],
   "source": [
    "with open(\"../data/three.txt\") as f:\n",
    "    \n",
    "    with open('../data/three.csv', mode='w') as csv_file:\n",
    "        fieldnames = ['num','word']\n",
    "        writer = csv.DictWriter(csv_file, fieldnames=fieldnames)\n",
    "\n",
    "        writer.writeheader()\n",
    "        for line in f:\n",
    "            state = line.split()\n",
    "            value = state[0]\n",
    "            n = value.replace('\"', '')\n",
    "            \n",
    "            w = state[1]\n",
    "            word = w.replace('\"', '')\n",
    "            if word not in stopwords:\n",
    "                writer.writerow({'num': n, 'word': word})\n",
    "three = pd.read_csv('../data/three.csv')\n",
    "three = three.sort_values(by=['num'], ascending=False)\n",
    "three.to_csv(\"../data/topwordsfor3.csv\", index=False)"
   ]
  },
  {
   "cell_type": "code",
   "execution_count": 99,
   "metadata": {},
   "outputs": [],
   "source": [
    "with open(\"../data/two.txt\") as f:\n",
    "    \n",
    "    with open('../data/two.csv', mode='w') as csv_file:\n",
    "        fieldnames = ['num','word']\n",
    "        writer = csv.DictWriter(csv_file, fieldnames=fieldnames)\n",
    "\n",
    "        writer.writeheader()\n",
    "        for line in f:\n",
    "            state = line.split()\n",
    "            value = state[0]\n",
    "            n = value.replace('\"', '')\n",
    "            \n",
    "            w = state[1]\n",
    "            word = w.replace('\"', '')\n",
    "            if word not in stopwords:\n",
    "                writer.writerow({'num': n, 'word': word})\n",
    "two = pd.read_csv('../data/two.csv')\n",
    "two = two.sort_values(by=['num'], ascending=False)\n",
    "two.to_csv(\"../data/topwordsfor2.csv\", index=False)"
   ]
  },
  {
   "cell_type": "code",
   "execution_count": 100,
   "metadata": {},
   "outputs": [],
   "source": [
    "with open(\"../data/one.txt\") as f:\n",
    "    \n",
    "    with open('../data/one.csv', mode='w') as csv_file:\n",
    "        fieldnames = ['num','word']\n",
    "        writer = csv.DictWriter(csv_file, fieldnames=fieldnames)\n",
    "\n",
    "        writer.writeheader()\n",
    "        for line in f:\n",
    "            state = line.split()\n",
    "            value = state[0]\n",
    "            n = value.replace('\"', '')\n",
    "            \n",
    "            w = state[1]\n",
    "            word = w.replace('\"', '')\n",
    "            if word not in stopwords:\n",
    "                writer.writerow({'num': n, 'word': word})\n",
    "one = pd.read_csv('../data/one.csv')\n",
    "one = one.sort_values(by=['num'], ascending=False)\n",
    "one.to_csv(\"../data/topwordsfor1.csv\", index=False)"
   ]
  },
  {
   "cell_type": "code",
   "execution_count": null,
   "metadata": {},
   "outputs": [],
   "source": []
  }
 ],
 "metadata": {
  "kernelspec": {
   "display_name": "Python 3",
   "language": "python",
   "name": "python3"
  },
  "language_info": {
   "codemirror_mode": {
    "name": "ipython",
    "version": 3
   },
   "file_extension": ".py",
   "mimetype": "text/x-python",
   "name": "python",
   "nbconvert_exporter": "python",
   "pygments_lexer": "ipython3",
   "version": "3.6.1"
  },
  "varInspector": {
   "cols": {
    "lenName": 16,
    "lenType": 16,
    "lenVar": 40
   },
   "kernels_config": {
    "python": {
     "delete_cmd_postfix": "",
     "delete_cmd_prefix": "del ",
     "library": "var_list.py",
     "varRefreshCmd": "print(var_dic_list())"
    },
    "r": {
     "delete_cmd_postfix": ") ",
     "delete_cmd_prefix": "rm(",
     "library": "var_list.r",
     "varRefreshCmd": "cat(var_dic_list()) "
    }
   },
   "types_to_exclude": [
    "module",
    "function",
    "builtin_function_or_method",
    "instance",
    "_Feature"
   ],
   "window_display": false
  }
 },
 "nbformat": 4,
 "nbformat_minor": 2
}
